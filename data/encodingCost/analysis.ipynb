{
 "cells": [
  {
   "cell_type": "code",
   "execution_count": 1,
   "metadata": {},
   "outputs": [],
   "source": [
    "import numpy as np \n",
    "import matplotlib.pyplot as plt\n",
    "import pickle as pkl"
   ]
  },
  {
   "cell_type": "code",
   "execution_count": 9,
   "metadata": {},
   "outputs": [],
   "source": [
    "min = 1\n",
    "max = 5\n",
    "\n",
    "prefix = \"oneCircuitEncodingCost\""
   ]
  },
  {
   "cell_type": "code",
   "execution_count": 10,
   "metadata": {},
   "outputs": [],
   "source": [
    "data = {}\n",
    "\n",
    "# organize data into single dictionary\n",
    "for i in range(min, max + 1):\n",
    "    with open(f\"{prefix}{i}.pkl\", \"rb\") as f:\n",
    "        data[i] = pkl.load(f)\n",
    "\n",
    "with open(\"oneCircuitEncodingCost.pkl\", \"wb\") as f:\n",
    "    pkl.dump(data, f)"
   ]
  },
  {
   "cell_type": "code",
   "execution_count": 6,
   "metadata": {},
   "outputs": [
    {
     "data": {
      "text/plain": [
       "{1: {'depth': [1545, 1507, 1517, 1498, 1510],\n",
       "  'count_ops': [OrderedDict([('rz', 1557),\n",
       "                ('sx', 1124),\n",
       "                ('ecr', 387),\n",
       "                ('x', 17)]),\n",
       "   OrderedDict([('rz', 1486), ('sx', 1098), ('ecr', 354), ('x', 10)]),\n",
       "   OrderedDict([('rz', 1659), ('sx', 1176), ('ecr', 412), ('x', 15)]),\n",
       "   OrderedDict([('rz', 1538), ('sx', 1119), ('ecr', 353), ('x', 3)]),\n",
       "   OrderedDict([('rz', 1550), ('sx', 1120), ('ecr', 353), ('x', 5)])],\n",
       "  'runtime': [244.26, 236.52, 243.24, 233.64000000000001, 233.88]},\n",
       " 2: {'depth': [6941, 6349, 6958, 6754, 6228],\n",
       "  'count_ops': [OrderedDict([('rz', 7574),\n",
       "                ('sx', 4626),\n",
       "                ('ecr', 2024),\n",
       "                ('x', 316)]),\n",
       "   OrderedDict([('rz', 7106), ('sx', 5026), ('ecr', 1800), ('x', 99)]),\n",
       "   OrderedDict([('rz', 7032), ('sx', 4274), ('ecr', 1989), ('x', 407)]),\n",
       "   OrderedDict([('rz', 6429), ('sx', 3739), ('ecr', 1726), ('x', 344)]),\n",
       "   OrderedDict([('rz', 6439), ('sx', 4713), ('ecr', 1524), ('x', 54)])],\n",
       "  'runtime': [1125.6000000000001,\n",
       "   1032.8400000000001,\n",
       "   1150.02,\n",
       "   1090.6200000000001,\n",
       "   976.74]},\n",
       " 3: {'depth': [26483, 26383, 25622, 25794, 26081],\n",
       "  'count_ops': [OrderedDict([('rz', 28412),\n",
       "                ('sx', 20062),\n",
       "                ('ecr', 7040),\n",
       "                ('x', 366)]),\n",
       "   OrderedDict([('rz', 27848), ('sx', 16454), ('ecr', 7646), ('x', 1399)]),\n",
       "   OrderedDict([('rz', 25407), ('sx', 15152), ('ecr', 6841), ('x', 1375)]),\n",
       "   OrderedDict([('rz', 27277), ('sx', 19746), ('ecr', 6496), ('x', 170)]),\n",
       "   OrderedDict([('rz', 26230), ('sx', 15586), ('ecr', 7010), ('x', 1377)])],\n",
       "  'runtime': [4192.5,\n",
       "   4279.139999999999,\n",
       "   4029.24,\n",
       "   4026.9600000000005,\n",
       "   4092.060000000001]},\n",
       " 4: {'depth': [111547, 92416, 105318, 91859, 107891],\n",
       "  'count_ops': [OrderedDict([('rz', 121092),\n",
       "                ('sx', 74836),\n",
       "                ('ecr', 28844),\n",
       "                ('x', 3150)]),\n",
       "   OrderedDict([('rz', 94838), ('sx', 51553), ('ecr', 28038), ('x', 9734)]),\n",
       "   OrderedDict([('rz', 118756), ('sx', 81975), ('ecr', 28710), ('x', 1922)]),\n",
       "   OrderedDict([('rz', 93557), ('sx', 49126), ('ecr', 27735), ('x', 10211)]),\n",
       "   OrderedDict([('rz', 113190), ('sx', 65486), ('ecr', 28725), ('x', 5857)])],\n",
       "  'runtime': [16392.48,\n",
       "   15777.120000000003,\n",
       "   16465.68,\n",
       "   15895.620000000003,\n",
       "   16308.539999999999]}}"
      ]
     },
     "execution_count": 6,
     "metadata": {},
     "output_type": "execute_result"
    }
   ],
   "source": [
    "data"
   ]
  },
  {
   "cell_type": "code",
   "execution_count": 1,
   "metadata": {},
   "outputs": [],
   "source": [
    "import pickle as pkl\n",
    "import csv\n",
    "import numpy as np"
   ]
  },
  {
   "cell_type": "code",
   "execution_count": 3,
   "metadata": {},
   "outputs": [],
   "source": [
    "with open(\"../oneCircuitResourceEstimation.pkl\", \"rb\") as f:\n",
    "    data = pkl.load(f)"
   ]
  },
  {
   "cell_type": "code",
   "execution_count": 5,
   "metadata": {},
   "outputs": [
    {
     "data": {
      "text/plain": [
       "{'depth': 70992,\n",
       " 'count_ops': OrderedDict([('rz', 63820),\n",
       "              ('sx', 40084),\n",
       "              ('ecr', 19340),\n",
       "              ('x', 2514),\n",
       "              ('barrier', 6)]),\n",
       " 'runtime': 11922.06}"
      ]
     },
     "execution_count": 5,
     "metadata": {},
     "output_type": "execute_result"
    }
   ],
   "source": [
    "data[1]"
   ]
  },
  {
   "cell_type": "code",
   "execution_count": 6,
   "metadata": {},
   "outputs": [],
   "source": [
    "runtime_fields = [\"sites\", \"runtime\"]\n",
    "ecr_fields = [\"sites\", \"gates\"]\n",
    "\n",
    "runtimes = []\n",
    "ecr = []\n",
    "\n",
    "for i in list(data.keys()):\n",
    "    d = data[i]\n",
    "    runtimes.append({\n",
    "        \"sites\":i,\n",
    "        \"runtime\":d[\"runtime\"]\n",
    "    })\n",
    "\n",
    "    ecr.append({\n",
    "        \"sites\":i,\n",
    "        \"gates\":d[\"count_ops\"][\"ecr\"]\n",
    "    })\n",
    "\n",
    "with open(\"qlbmRuntime.csv\", \"w\") as f:\n",
    "    writer = csv.DictWriter(f, fieldnames = runtime_fields) \n",
    "    writer.writeheader()\n",
    "    writer.writerows(runtimes) \n",
    "\n",
    "with open(\"qlbmEcr.csv\", \"w\") as f:\n",
    "    writer = csv.DictWriter(f, fieldnames = ecr_fields) \n",
    "    writer.writeheader() \n",
    "    writer.writerows(ecr) \n"
   ]
  }
 ],
 "metadata": {
  "kernelspec": {
   "display_name": "qiskit1",
   "language": "python",
   "name": "python3"
  },
  "language_info": {
   "codemirror_mode": {
    "name": "ipython",
    "version": 3
   },
   "file_extension": ".py",
   "mimetype": "text/x-python",
   "name": "python",
   "nbconvert_exporter": "python",
   "pygments_lexer": "ipython3",
   "version": "3.12.6"
  }
 },
 "nbformat": 4,
 "nbformat_minor": 2
}

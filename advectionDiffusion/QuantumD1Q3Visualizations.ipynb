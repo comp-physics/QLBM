{
 "cells": [
  {
   "cell_type": "code",
   "execution_count": 34,
   "id": "f2b5d417",
   "metadata": {},
   "outputs": [],
   "source": [
    "import numpy as np\n",
    "import qiskit as q\n",
    "from qiskit import QuantumCircuit, transpile, assemble, QuantumRegister, AncillaRegister\n",
    "from qiskit_aer import AerSimulator\n",
    "\n",
    "from qiskit.quantum_info.operators import Operator\n",
    "from qiskit.quantum_info import Statevector\n",
    "from qiskit.visualization import array_to_latex\n",
    "import matplotlib as mpl\n",
    "import matplotlib.pyplot as plt\n",
    "\n",
    "from qiskit_ibm_runtime.fake_provider import FakeBrisbane\n",
    "from qiskit.transpiler.preset_passmanagers import generate_preset_pass_manager\n",
    "from qiskit_ibm_runtime import QiskitRuntimeService, SamplerV2 as Sampler\n",
    "from qiskit.visualization import plot_histogram, plot_state_city\n",
    "\n",
    "import math\n",
    "import pickle as pkl"
   ]
  },
  {
   "cell_type": "code",
   "execution_count": 35,
   "id": "8d5d7420",
   "metadata": {},
   "outputs": [
    {
     "data": {
      "text/plain": [
       "(np.float64(0.2666666666666666),\n",
       " np.float64(0.06666666666666668),\n",
       " np.float64(0.6666666666666666))"
      ]
     },
     "execution_count": 35,
     "metadata": {},
     "output_type": "execute_result"
    }
   ],
   "source": [
    "#parameters\n",
    "\n",
    "M = 64 # lattices\n",
    "\n",
    "dim = 1\n",
    "dirs = 3\n",
    "\n",
    "w0 = 2/3\n",
    "w1 = 1/6 \n",
    "w2 = 1/6 \n",
    "e0 = 0\n",
    "e1 = 1   ##right\n",
    "e2 = -1  ##left\n",
    "cs = 1/np.sqrt(3)   ##speed of sound\n",
    "u = 0.2  ##advection \n",
    "\n",
    "\n",
    "x = w1*(1+e1*u/cs**2)\n",
    "y = w2*(1+e2*u/cs**2)\n",
    "z = w0*(1+e0*u/cs**2)\n",
    "\n",
    "lambda1 = np.arccos(x)\n",
    "lambda2 = np.arccos(y)\n",
    "lambda0 = np.arccos(z)\n",
    "lambdas = (lambda0, lambda1, lambda2)\n",
    "\n",
    "x,y,z"
   ]
  },
  {
   "cell_type": "code",
   "execution_count": 36,
   "id": "1a473323",
   "metadata": {},
   "outputs": [],
   "source": [
    "def createLambda(oper, isC1 = True):\n",
    "    \n",
    "    if oper == 0:\n",
    "        s = '10'\n",
    "    elif oper == 1:\n",
    "        s = '00'\n",
    "    else:\n",
    "        s = '01'\n",
    "    \n",
    "    nlambda = lambdas[oper]\n",
    "    \n",
    "    if not isC1:\n",
    "        nlambda*=-1\n",
    "    \n",
    "    qc = QuantumCircuit(dirs)\n",
    "    \n",
    "    tmp = QuantumCircuit(1)\n",
    "\n",
    "    tmp.p(nlambda, 0)\n",
    "    tmp.x(0)\n",
    "    tmp.p(nlambda, 0)\n",
    "    tmp.x(0)\n",
    "    \n",
    "    gate = tmp.to_gate(label = \"Lambda\"+str(oper)).control(1, ctrl_state=int(s[1])).control(1,ctrl_state = int(s[0]))\n",
    "    \n",
    "    qc.append(gate,list(range(dirs))[::-1])\n",
    "    return qc"
   ]
  },
  {
   "cell_type": "code",
   "execution_count": 37,
   "id": "833970cf",
   "metadata": {},
   "outputs": [
    {
     "data": {
      "text/html": [
       "<pre style=\"word-wrap: normal;white-space: pre;background: #fff0;line-height: 1.1;font-family: &quot;Courier New&quot;,Courier,monospace\">                         ┌───┐\n",
       "q_0: ────────────────────┤ X ├\n",
       "                    ┌───┐└─┬─┘\n",
       "q_1: ───────────────┤ X ├──■──\n",
       "               ┌───┐└─┬─┘  │  \n",
       "q_2: ──────────┤ X ├──■────■──\n",
       "          ┌───┐└─┬─┘  │    │  \n",
       "q_3: ─────┤ X ├──■────■────■──\n",
       "     ┌───┐└─┬─┘  │    │    │  \n",
       "q_4: ┤ X ├──■────■────■────■──\n",
       "     └───┘                    </pre>"
      ],
      "text/plain": [
       "                         ┌───┐\n",
       "q_0: ────────────────────┤ X ├\n",
       "                    ┌───┐└─┬─┘\n",
       "q_1: ───────────────┤ X ├──■──\n",
       "               ┌───┐└─┬─┘  │  \n",
       "q_2: ──────────┤ X ├──■────■──\n",
       "          ┌───┐└─┬─┘  │    │  \n",
       "q_3: ─────┤ X ├──■────■────■──\n",
       "     ┌───┐└─┬─┘  │    │    │  \n",
       "q_4: ┤ X ├──■────■────■────■──\n",
       "     └───┘                    "
      ]
     },
     "execution_count": 37,
     "metadata": {},
     "output_type": "execute_result"
    }
   ],
   "source": [
    "def rshift(n):\n",
    "    circ = QuantumCircuit(n)\n",
    "    for i in range(n):\n",
    "        if i == n-1:\n",
    "            circ.x(i)\n",
    "        else:\n",
    "            circ.mcx(list(range(i+1,n)), i)\n",
    "    return circ\n",
    "\n",
    "def lshift(n):\n",
    "    circ = QuantumCircuit(n)\n",
    "    for i in reversed(range(n)):\n",
    "        if i == n-1:\n",
    "            circ.x(i)\n",
    "        else:\n",
    "            circ.mcx(list(range(i+1,n)), i)\n",
    "    return circ\n",
    "\n",
    "def prop(n):\n",
    "    R = rshift(n).to_gate(label = \"R\").control(1, ctrl_state = 0)#.control(0, ctrl_state = 1)\n",
    "    L = lshift(n).to_gate(label = \"L\").control(1, ctrl_state = 1)#.control(0, ctrl_state = 1)\n",
    "    \n",
    "    cbits = [n]\n",
    "    cbits.extend([i for i in range(n-1,-1,-1)])  \n",
    "    \n",
    "    qc = QuantumCircuit(n+1)\n",
    "    qc.append(R,cbits)\n",
    "    qc.append(L,cbits)\n",
    "    return qc\n",
    "lshift(5).draw()"
   ]
  },
  {
   "cell_type": "code",
   "execution_count": 38,
   "id": "29d0d989",
   "metadata": {
    "scrolled": false
   },
   "outputs": [
    {
     "data": {
      "text/html": [
       "<pre style=\"word-wrap: normal;white-space: pre;background: #fff0;line-height: 1.1;font-family: &quot;Courier New&quot;,Courier,monospace\">          ┌──────────┐┌──────────┐┌──────────┐┌──────────┐┌──────────┐»\n",
       "q_0: ─────┤0         ├┤0         ├┤0         ├┤0         ├┤0         ├»\n",
       "          │          ││          ││          ││          ││          │»\n",
       "q_1: ─────┤          ├┤          ├┤          ├┤          ├┤          ├»\n",
       "          │          ││          ││          ││          ││          │»\n",
       "q_2: ─────┤          ├┤          ├┤          ├┤          ├┤          ├»\n",
       "          │          ││          ││          ││          ││          │»\n",
       "q_3: ─────┤          ├┤          ├┤          ├┤          ├┤          ├»\n",
       "          │  lambda0 ││  lambda1 ││  lambda2 ││  lambda0 ││  lambda1 │»\n",
       "q_4: ─────┤          ├┤          ├┤          ├┤          ├┤          ├»\n",
       "          │          ││          ││          ││          ││          │»\n",
       "q_5: ─────┤          ├┤          ├┤          ├┤          ├┤          ├»\n",
       "          │          ││          ││          ││          ││          │»\n",
       "q_6: ─────┤1         ├┤1         ├┤1         ├┤1         ├┤1         ├»\n",
       "          │          ││          ││          ││          ││          │»\n",
       "q_7: ─────┤2         ├┤2         ├┤2         ├┤2         ├┤2         ├»\n",
       "     ┌───┐└────┬─────┘└────┬─────┘└────┬─────┘└────┬─────┘└────┬─────┘»\n",
       "  a: ┤ H ├─────o───────────o───────────o───────────■───────────■──────»\n",
       "     └───┘                                                            »\n",
       "«     ┌──────────┐┌────┐┌────┐     \n",
       "«q_0: ┤0         ├┤5   ├┤5   ├─────\n",
       "«     │          ││    ││    │     \n",
       "«q_1: ┤          ├┤4   ├┤4   ├─────\n",
       "«     │          ││    ││    │     \n",
       "«q_2: ┤          ├┤3   ├┤3   ├─────\n",
       "«     │          ││  R ││  L │     \n",
       "«q_3: ┤          ├┤2   ├┤2   ├─────\n",
       "«     │  lambda2 ││    ││    │     \n",
       "«q_4: ┤          ├┤1   ├┤1   ├─────\n",
       "«     │          ││    ││    │     \n",
       "«q_5: ┤          ├┤0   ├┤0   ├─────\n",
       "«     │          │└─┬──┘└─┬──┘┌───┐\n",
       "«q_6: ┤1         ├──o─────■───┤ H ├\n",
       "«     │          │  │     │   ├───┤\n",
       "«q_7: ┤2         ├──o─────o───┤ H ├\n",
       "«     └────┬─────┘┌───┐       └───┘\n",
       "«  a: ─────■──────┤ H ├────────────\n",
       "«                 └───┘            </pre>"
      ],
      "text/plain": [
       "          ┌──────────┐┌──────────┐┌──────────┐┌──────────┐┌──────────┐»\n",
       "q_0: ─────┤0         ├┤0         ├┤0         ├┤0         ├┤0         ├»\n",
       "          │          ││          ││          ││          ││          │»\n",
       "q_1: ─────┤          ├┤          ├┤          ├┤          ├┤          ├»\n",
       "          │          ││          ││          ││          ││          │»\n",
       "q_2: ─────┤          ├┤          ├┤          ├┤          ├┤          ├»\n",
       "          │          ││          ││          ││          ││          │»\n",
       "q_3: ─────┤          ├┤          ├┤          ├┤          ├┤          ├»\n",
       "          │  lambda0 ││  lambda1 ││  lambda2 ││  lambda0 ││  lambda1 │»\n",
       "q_4: ─────┤          ├┤          ├┤          ├┤          ├┤          ├»\n",
       "          │          ││          ││          ││          ││          │»\n",
       "q_5: ─────┤          ├┤          ├┤          ├┤          ├┤          ├»\n",
       "          │          ││          ││          ││          ││          │»\n",
       "q_6: ─────┤1         ├┤1         ├┤1         ├┤1         ├┤1         ├»\n",
       "          │          ││          ││          ││          ││          │»\n",
       "q_7: ─────┤2         ├┤2         ├┤2         ├┤2         ├┤2         ├»\n",
       "     ┌───┐└────┬─────┘└────┬─────┘└────┬─────┘└────┬─────┘└────┬─────┘»\n",
       "  a: ┤ H ├─────o───────────o───────────o───────────■───────────■──────»\n",
       "     └───┘                                                            »\n",
       "«     ┌──────────┐┌────┐┌────┐     \n",
       "«q_0: ┤0         ├┤5   ├┤5   ├─────\n",
       "«     │          ││    ││    │     \n",
       "«q_1: ┤          ├┤4   ├┤4   ├─────\n",
       "«     │          ││    ││    │     \n",
       "«q_2: ┤          ├┤3   ├┤3   ├─────\n",
       "«     │          ││  R ││  L │     \n",
       "«q_3: ┤          ├┤2   ├┤2   ├─────\n",
       "«     │  lambda2 ││    ││    │     \n",
       "«q_4: ┤          ├┤1   ├┤1   ├─────\n",
       "«     │          ││    ││    │     \n",
       "«q_5: ┤          ├┤0   ├┤0   ├─────\n",
       "«     │          │└─┬──┘└─┬──┘┌───┐\n",
       "«q_6: ┤1         ├──o─────■───┤ H ├\n",
       "«     │          │  │     │   ├───┤\n",
       "«q_7: ┤2         ├──o─────o───┤ H ├\n",
       "«     └────┬─────┘┌───┐       └───┘\n",
       "«  a: ─────■──────┤ H ├────────────\n",
       "«                 └───┘            "
      ]
     },
     "execution_count": 38,
     "metadata": {},
     "output_type": "execute_result"
    }
   ],
   "source": [
    "q = QuantumRegister(np.ceil(np.log2(dirs))+np.log2(M),'q')\n",
    "a = AncillaRegister(1,'a')\n",
    "\n",
    "\n",
    "setup = QuantumCircuit(q)\n",
    "setup.add_register(a)\n",
    "\n",
    "setup.h(a)\n",
    "setup.append(createLambda(0,True).to_gate(label = 'lambda0').control(1,ctrl_state = 0),[a,0,6,7])\n",
    "setup.append(createLambda(1,True).to_gate(label = 'lambda1').control(1,ctrl_state = 0),[a,0,6,7])\n",
    "setup.append(createLambda(2,True).to_gate(label = 'lambda2').control(1,ctrl_state = 0),[a,0,6,7])\n",
    "setup.append(createLambda(0,False).to_gate(label = 'lambda0').control(1,ctrl_state = 1),[a,0,6,7])\n",
    "setup.append(createLambda(1,False).to_gate(label = 'lambda1').control(1,ctrl_state = 1),[a,0,6,7])\n",
    "setup.append(createLambda(2,False).to_gate(label = 'lambda2').control(1,ctrl_state = 1),[a,0,6,7])\n",
    "setup.h(a)\n",
    "\n",
    "# setup.barrier()\n",
    "setup.append(rshift(6).to_gate(label = \"R\").control(1, ctrl_state = 0).control(1,ctrl_state=0),[6,7,5,4,3,2,1,0])\n",
    "setup.append(lshift(6).to_gate(label = \"L\").control(1, ctrl_state = 0).control(1,ctrl_state=1),[6,7,5,4,3,2,1,0])\n",
    "# setup.barrier()\n",
    "\n",
    "# setup.swap(a,6)\n",
    "# setup.h(a)\n",
    "# setup.swap(a,7)\n",
    "# setup.h(a)\n",
    "setup.h(6)\n",
    "setup.h(7)\n",
    "\n",
    "setup.draw()"
   ]
  },
  {
   "cell_type": "code",
   "execution_count": 39,
   "id": "963a94d3",
   "metadata": {},
   "outputs": [
    {
     "data": {
      "text/latex": [
       "$$\n",
       "\n",
       "\\begin{bmatrix}\n",
       "0.0705345616 & 0.0705345616 & 0.0705345616 & 0.0705345616 & 0.0705345616 & 0.0705345616 & 0.0705345616 & 0.0705345616 & 0.0705345616 & 0.0705345616 & 0.0705345616 & 0.0705345616 & 0.1410691232 & 0.0705345616 & 0.0705345616 & 0.0705345616 & 0.0705345616 & 0.0705345616 & 0.0705345616 & 0.0705345616 & 0.0705345616 & 0.0705345616 & 0.0705345616 & 0.0705345616 & 0.0705345616 & 0.0705345616 & 0.0705345616 & 0.0705345616 & 0.0705345616 & 0.0705345616 & 0.0705345616 & 0.0705345616 & 0.0705345616 & 0.0705345616 & 0.0705345616 & 0.0705345616 & 0.0705345616 & 0.0705345616 & 0.0705345616 & 0.0705345616 & 0.0705345616 & 0.0705345616 & 0.0705345616 & 0.0705345616 & 0.0705345616 & 0.0705345616 & 0.0705345616 & 0.0705345616 & 0.0705345616 & 0.0705345616 & 0.0705345616 & 0.0705345616 & 0.0705345616 & 0.0705345616 & 0.0705345616 & 0.0705345616 & 0.0705345616 & 0.0705345616 & 0.0705345616 & 0.0705345616 & 0.0705345616 & 0.0705345616 & 0.0705345616 & 0.0705345616 & 0.0705345616 & 0.0705345616 & 0.0705345616 & 0.0705345616 & 0.0705345616 & 0.0705345616 & 0.0705345616 & 0.0705345616 & 0.0705345616 & 0.0705345616 & 0.0705345616 & 0.0705345616 & 0.1410691232 & 0.0705345616 & 0.0705345616 & 0.0705345616 & 0.0705345616 & 0.0705345616 & 0.0705345616 & 0.0705345616 & 0.0705345616 & 0.0705345616 & 0.0705345616 & 0.0705345616 & 0.0705345616 & 0.0705345616 & 0.0705345616 & 0.0705345616 & 0.0705345616 & 0.0705345616 & 0.0705345616 & 0.0705345616 & 0.0705345616 & 0.0705345616 & 0.0705345616 & 0.0705345616 & 0.0705345616 & 0.0705345616 & 0.0705345616 & 0.0705345616 & 0.0705345616 & 0.0705345616 & 0.0705345616 & 0.0705345616 & 0.0705345616 & 0.0705345616 & 0.0705345616 & 0.0705345616 & 0.0705345616 & 0.0705345616 & 0.0705345616 & 0.0705345616 & 0.0705345616 & 0.0705345616 & 0.0705345616 & 0.0705345616 & 0.0705345616 & 0.0705345616 & 0.0705345616 & 0.0705345616 & 0.0705345616 & 0.0705345616 & 0.0705345616 & 0.0705345616 & \\cdots & 0 & 0 & 0 & 0 & 0 & 0 & 0 & 0 & 0 & 0 & 0 & 0 & 0 & 0 & 0 & 0 & 0 & 0 & 0 & 0 & 0 & 0 & 0 & 0 & 0 & 0 & 0 & 0 & 0 & 0 & 0 & 0 & 0 & 0 & 0 & 0 & 0 & 0 & 0 & 0 & 0 & 0 & 0 & 0 & 0 & 0 & 0 & 0 & 0 & 0 & 0 & 0 & 0 & 0 & 0 & 0 & 0 & 0 & 0 & 0 & 0 & 0 & 0 & 0 & 0 & 0 & 0 & 0 & 0 & 0 & 0 & 0 & 0 & 0 & 0 & 0 & 0 & 0 & 0 & 0 & 0 & 0 & 0 & 0 & 0 & 0 & 0 & 0 & 0 & 0 & 0 & 0 & 0 & 0 & 0 & 0 & 0 & 0 & 0 & 0 & 0 & 0 & 0 & 0 & 0 & 0 & 0 & 0 & 0 & 0 & 0 & 0 & 0 & 0 & 0 & 0 & 0 & 0 & 0 & 0 & 0 & 0 & 0 & 0 & 0 & 0 & 0  \\\\\n",
       " \\end{bmatrix}\n",
       "$$"
      ],
      "text/plain": [
       "<IPython.core.display.Latex object>"
      ]
     },
     "execution_count": 39,
     "metadata": {},
     "output_type": "execute_result"
    }
   ],
   "source": [
    "#### initialState\n",
    "initState = np.ones(M)/10  #0.1 everywhere\n",
    "initState[12] = 0.2\n",
    "nrm = np.linalg.norm(initState)\n",
    "initState = np.concatenate((initState,initState,initState,[0 for i in range(M)]))\n",
    "\n",
    "\n",
    "SV = Statevector(initState/np.linalg.norm(initState)).expand([1,0])\n",
    "initSV = SV\n",
    "array_to_latex(SV,max_size = 256)"
   ]
  },
  {
   "cell_type": "code",
   "execution_count": 40,
   "id": "01d4edbe",
   "metadata": {},
   "outputs": [],
   "source": [
    "def timestep(sv):\n",
    "    return sv.evolve(setup)\n",
    "\n",
    "def graph(sv, color = \"red\"):\n",
    "    plt.plot(list(range(0,M,1)), np.array(sv)[:M:1],color)\n",
    "    plt.plot(list(range(1*M,2*M,1)), np.array(sv)[1*M:2*M:1],color)\n",
    "    plt.plot(list(range(2*M,3*M,1)), np.array(sv)[2*M:3*M:1],color)\n",
    "    plt.plot(list(range(3*M,4*M,1)), np.array(sv)[3*M:4*M:1],color)\n",
    "    plt.plot(list(range(4*M,5*M,1)), np.array(sv)[4*M:5*M:1],color)\n",
    "    plt.plot(list(range(5*M,6*M,1)), np.array(sv)[5*M:6*M:1],color)\n",
    "    plt.plot(list(range(6*M,7*M,1)), np.array(sv)[6*M:7*M:1],color)\n",
    "    plt.plot(list(range(7*M,8*M,1)), np.array(sv)[7*M:8*M:1],color)\n",
    "\n",
    "def hres(sv):\n",
    "    plt.plot(list(range(0,M,1)), nrm* np.array(sv)[:M]/np.linalg.norm(np.array(sv)[:M]))\n",
    "\n",
    "def reinit(sv):\n",
    "    tmp = np.array(sv)[:M]\n",
    "    tmp = np.concatenate((tmp,tmp,tmp,[0 for i in range(M)]))\n",
    "    return Statevector(tmp/np.linalg.norm(tmp)).expand([1,0])"
   ]
  },
  {
   "cell_type": "code",
   "execution_count": 41,
   "id": "4eb601fc",
   "metadata": {},
   "outputs": [],
   "source": [
    "# sorts and converts values of counts\n",
    "def process_counts(counts):\n",
    "    sum = 0\n",
    "    vals = list(counts.values())\n",
    "    for i in vals:\n",
    "        sum = sum + i\n",
    "    # sort the counts by the keys\n",
    "    keys = list(counts.keys())\n",
    "    keys.sort()\n",
    "    # counts = {i: counts[i] for i in keys}\n",
    "    # indices = np.argsort(keys)\n",
    "    counts = {i: counts[i] / sum for i in keys}\n",
    "    counts = {i: math.sqrt(counts[i]) for i in keys}\n",
    "    return counts"
   ]
  },
  {
   "cell_type": "code",
   "execution_count": 42,
   "id": "1c228c2f",
   "metadata": {},
   "outputs": [],
   "source": [
    "def simulate_statevector(sv, qc, nshots=10_000):\n",
    "    simulator = AerSimulator()\n",
    "\n",
    "    # prepare the state of the given state vector\n",
    "    circ = QuantumCircuit(qc.num_qubits)\n",
    "    circ.prepare_state(sv)\n",
    "    circ.measure_all()\n",
    "    # TODO: count gates \n",
    "    circ = transpile(circ, simulator)\n",
    "    result = simulator.run(circ, shots=nshots).result()\n",
    "    counts = result.get_counts(circ)\n",
    "\n",
    "    return counts"
   ]
  },
  {
   "cell_type": "code",
   "execution_count": 43,
   "id": "646dff08",
   "metadata": {},
   "outputs": [],
   "source": [
    "def save_fig(vals, i, type=\"quantum\"):\n",
    "    plt.xlabel(\"Lattice Site\")\n",
    "    plt.ylabel(\"Concentration\")\n",
    "    plt.title(f\"Concentration at Lattice Sites at t = {i}\")\n",
    "\n",
    "    plt.plot(list(range(0,M,1)), vals)\n",
    "    plt.savefig(f'd1q3_{type}_simulation/{i}.png')\n",
    "\n",
    "    plt.close('all')"
   ]
  },
  {
   "cell_type": "code",
   "execution_count": 44,
   "id": "f2bf2a73",
   "metadata": {},
   "outputs": [],
   "source": [
    "#### initialState\n",
    "def reset_statevector():\n",
    "    initState = np.ones(M)/10  #0.1 everywhere\n",
    "    initState[12] = 0.2\n",
    "    nrm = np.linalg.norm(initState)\n",
    "    initState = np.concatenate((initState,initState,initState,[0 for i in range(M)]))\n",
    "\n",
    "    SV = Statevector(initState/np.linalg.norm(initState)).expand([1,0])\n",
    "    return SV"
   ]
  },
  {
   "cell_type": "code",
   "execution_count": 45,
   "id": "f4d34f01",
   "metadata": {
    "scrolled": false
   },
   "outputs": [
    {
     "name": "stderr",
     "output_type": "stream",
     "text": [
      "/Users/melod/anaconda3/envs/qiskit1/lib/python3.12/site-packages/matplotlib/cbook.py:1762: ComplexWarning: Casting complex values to real discards the imaginary part\n",
      "  return math.isfinite(val)\n",
      "/Users/melod/anaconda3/envs/qiskit1/lib/python3.12/site-packages/matplotlib/cbook.py:1398: ComplexWarning: Casting complex values to real discards the imaginary part\n",
      "  return np.asarray(x, float)\n"
     ]
    },
    {
     "data": {
      "image/png": "[encoded data removed]",
      "text/plain": [
       "<Figure size 640x480 with 1 Axes>"
      ]
     },
     "metadata": {},
     "output_type": "display_data"
    }
   ],
   "source": [
    "## saves and graphs the change in % difference with increase in number of shots\n",
    "\n",
    "# hres(initSV)\n",
    "iterations = 50\n",
    "lower_pow = 8\n",
    "upper_pow = 8\n",
    "SV = reset_statevector()\n",
    "\n",
    "type = \"shots_comparison\"\n",
    "\n",
    "counts_all = {}\n",
    "sv_all = {}\n",
    "\n",
    "SV = reset_statevector()\n",
    "\n",
    "counts_all = {}\n",
    "sv_all = {}\n",
    "\n",
    "for j in range(lower_pow, upper_pow + 1):\n",
    "    for i in range(iterations + 1):\n",
    "        SV = timestep(SV)\n",
    "\n",
    "        if i == 50:\n",
    "            counts = simulate_statevector(SV, setup, nshots=pow(10, j))\n",
    "            processed_counts = process_counts(counts)\n",
    "\n",
    "            vals = np.array(list(processed_counts.values())) \n",
    "            plt.plot(list(range(0,M,1)), nrm*vals[:M]/np.linalg.norm(np.array(vals[:M])), label='Finite Sampling')\n",
    "            plt.plot(list(range(0,M,1)), nrm*np.array(SV)[:M]/np.linalg.norm(np.array(SV)[:M]), label='Statevector Simulation')\n",
    "            \n",
    "            plt.xlabel(\"Lattice site\")\n",
    "            plt.ylabel(\"Concentration\")\n",
    "            plt.title(f'D1Q3 Comparison of Statevector Simulator with Finite Sampling, t={i}, 10^{j} shots')\n",
    "\n",
    "        SV = reinit(SV)\n",
    "\n",
    "plt.legend()\n",
    "plt.show()\n"
   ]
  },
  {
   "cell_type": "code",
   "execution_count": 46,
   "id": "b08a92a4",
   "metadata": {},
   "outputs": [
    {
     "ename": "KeyError",
     "evalue": "(5, 10)",
     "output_type": "error",
     "traceback": [
      "\u001b[0;31m---------------------------------------------------------------------------\u001b[0m",
      "\u001b[0;31mKeyError\u001b[0m                                  Traceback (most recent call last)",
      "Cell \u001b[0;32mIn[46], line 1\u001b[0m\n\u001b[0;32m----> 1\u001b[0m \u001b[43mcounts_all\u001b[49m\u001b[43m[\u001b[49m\u001b[43m(\u001b[49m\u001b[38;5;241;43m5\u001b[39;49m\u001b[43m,\u001b[49m\u001b[43m \u001b[49m\u001b[38;5;241;43m10\u001b[39;49m\u001b[43m)\u001b[49m\u001b[43m]\u001b[49m\n",
      "\u001b[0;31mKeyError\u001b[0m: (5, 10)"
     ]
    }
   ],
   "source": [
    "counts_all[(5, 10)]"
   ]
  },
  {
   "cell_type": "code",
   "execution_count": 56,
   "id": "050f037e",
   "metadata": {},
   "outputs": [],
   "source": [
    "import pickle as pkl\n",
    "\n",
    "with open('data/d1q3_sampleincr_counts.pkl', 'wb') as f:\n",
    "    pkl.dump(counts_all, f)\n",
    "\n",
    "with open('data/d1q3_sampleincr_statevector.pkl', 'wb') as f:\n",
    "    pkl.dump(sv_all, f)"
   ]
  }
 ],
 "metadata": {
  "kernelspec": {
   "display_name": "qiskit1",
   "language": "python",
   "name": "python3"
  },
  "language_info": {
   "codemirror_mode": {
    "name": "ipython",
    "version": 3
   },
   "file_extension": ".py",
   "mimetype": "text/x-python",
   "name": "python",
   "nbconvert_exporter": "python",
   "pygments_lexer": "ipython3",
   "version": "3.12.6"
  }
 },
 "nbformat": 4,
 "nbformat_minor": 5
}

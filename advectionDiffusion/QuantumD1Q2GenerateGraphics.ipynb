{
 "cells": [
  {
   "cell_type": "code",
   "execution_count": 1,
   "id": "f2b5d417",
   "metadata": {},
   "outputs": [],
   "source": [
    "import numpy as np\n",
    "import qiskit as q\n",
    "from qiskit import QuantumCircuit, transpile, assemble, QuantumRegister, AncillaRegister\n",
    "from qiskit_aer import AerSimulator\n",
    "\n",
    "from qiskit.quantum_info.operators import Operator\n",
    "from qiskit.quantum_info import Statevector\n",
    "from qiskit.visualization import array_to_latex\n",
    "import matplotlib as mpl\n",
    "import matplotlib.pyplot as plt\n",
    "\n",
    "from qiskit_ibm_runtime.fake_provider import FakeBrisbane\n",
    "from qiskit.transpiler.preset_passmanagers import generate_preset_pass_manager\n",
    "from qiskit_ibm_runtime import QiskitRuntimeService, SamplerV2 as Sampler\n",
    "from qiskit.visualization import plot_histogram, plot_state_city\n",
    "\n",
    "import math\n",
    "import pickle as pkl"
   ]
  },
  {
   "cell_type": "code",
   "execution_count": 2,
   "id": "8d5d7420",
   "metadata": {},
   "outputs": [
    {
     "data": {
      "text/plain": [
       "(0.6, 0.4)"
      ]
     },
     "execution_count": 2,
     "metadata": {},
     "output_type": "execute_result"
    }
   ],
   "source": [
    "#parameters\n",
    "\n",
    "M = 64 # lattices\n",
    "\n",
    "w1 = 0.5 \n",
    "w2 = 0.5 \n",
    "e1 = 1   ##right\n",
    "e2 = -1  ##left\n",
    "cs = 1   ##speed of sound\n",
    "u = 0.2  ##advection \n",
    "\n",
    "\n",
    "x = w1*(1+e1*u/cs**2)\n",
    "y = w2*(1+e2*u/cs**2)\n",
    "\n",
    "lambda1 = np.arccos(x)\n",
    "lambda2 = np.arccos(y)\n",
    "\n",
    "x,y"
   ]
  },
  {
   "cell_type": "code",
   "execution_count": 3,
   "id": "88cbf37a",
   "metadata": {},
   "outputs": [],
   "source": [
    "def oneStep(lambda1,lambda2):\n",
    "    \n",
    "    #initializing\n",
    "    n = int(np.log2(2*M))\n",
    "    q = QuantumRegister(n,'q')\n",
    "    a = AncillaRegister(1,'a')\n",
    "\n",
    "    qc = QuantumCircuit(q)\n",
    "    qc.add_register(a)\n",
    "    \n",
    "    \n",
    "    qc.barrier()\n",
    "\n",
    "    #collisions\n",
    "    def createC(lambda1, lambda2, isC1 = True):\n",
    "    \n",
    "        if not isC1:\n",
    "            lambda1 *= -1\n",
    "            lambda2 *= -1\n",
    "\n",
    "\n",
    "        qc=QuantumCircuit(2)\n",
    "\n",
    "        #phase1 -> x -> phase1 -> x -----ctrl=0\n",
    "        qc.cp(lambda1, 0 ,1 , ctrl_state = 0)\n",
    "        qc.cx(0, 1, ctrl_state = 0)\n",
    "        qc.cp(lambda1, 0, 1, ctrl_state = 0)\n",
    "        qc.cx(0, 1, ctrl_state = 0)\n",
    "\n",
    "        #phase2 -> x -> phase2 -> x -----ctrl=1 is default\n",
    "        qc.cp(lambda2, 0, 1, ctrl_state = 1)\n",
    "        qc.cx(0, 1)\n",
    "        qc.cp(lambda2, 0, 1, ctrl_state = 1)\n",
    "        qc.cx(0, 1)\n",
    "\n",
    "        return qc\n",
    "    \n",
    "    C1 = createC(lambda1, lambda2, True)\n",
    "    c1gate = C1.to_gate(label = 'c1')\n",
    "    C2 = createC(lambda1, lambda2, False)\n",
    "    c2gate = C2.to_gate(label = 'c2')\n",
    "    \n",
    "    \n",
    "    #####adding steps to circuit\n",
    "    qc.h(a)\n",
    "    qc.append(c1gate.control(1, ctrl_state = 0),[a,n-1,0])\n",
    "    qc.append(c2gate.control(1, ctrl_state = 1),[a,n-1,0])\n",
    "    qc.h(a)\n",
    "    qc.draw()\n",
    "    \n",
    "    \n",
    "    \n",
    "    #propagation\n",
    "    def rshift(n):\n",
    "        circ = QuantumCircuit(n-1)\n",
    "        for i in range(n-1):\n",
    "            if i == n-2:\n",
    "                circ.x(i)\n",
    "            else:\n",
    "                circ.mcx(list(range(i+1,n-1)), i)\n",
    "        return circ\n",
    "\n",
    "    def lshift(n):\n",
    "        circ = QuantumCircuit(n-1)\n",
    "        for i in reversed(range(n-1)):\n",
    "            if i == n-2:\n",
    "                circ.x(i)\n",
    "            else:\n",
    "                circ.mcx(list(range(i+1,n-1)), i)\n",
    "        return circ\n",
    "    \n",
    "    qc.barrier()\n",
    "    R = rshift(n).to_gate(label = \"R\").control(1, ctrl_state = 0)#.control(1, ctrl_state = 0)\n",
    "    L = lshift(n).to_gate(label = \"L\").control(1, ctrl_state = 1)#.control(1, ctrl_state = 0)\n",
    "    \n",
    "    cbits = [n-1]\n",
    "    cbits.extend([i for i in range(n-2,-1,-1)])  \n",
    "\n",
    "    qc.append(R,cbits)\n",
    "    qc.append(L,cbits)\n",
    "\n",
    "    \n",
    "    ######################### macros\n",
    "    qc.swap(a,n-1)\n",
    "    qc.h(a)\n",
    "#     qc.h(n-1)\n",
    "\n",
    "    return qc"
   ]
  },
  {
   "cell_type": "code",
   "execution_count": 4,
   "id": "4046a942",
   "metadata": {
    "scrolled": false
   },
   "outputs": [
    {
     "data": {
      "text/html": [
       "<pre style=\"word-wrap: normal;white-space: pre;background: #fff0;line-height: 1.1;font-family: &quot;Courier New&quot;,Courier,monospace\">      ░      ┌─────┐┌─────┐      ░ ┌────┐┌────┐        \n",
       "q_0: ─░──────┤1    ├┤1    ├──────░─┤5   ├┤5   ├────────\n",
       "      ░      │     ││     │      ░ │    ││    │        \n",
       "q_1: ─░──────┤     ├┤     ├──────░─┤4   ├┤4   ├────────\n",
       "      ░      │     ││     │      ░ │    ││    │        \n",
       "q_2: ─░──────┤     ├┤     ├──────░─┤3   ├┤3   ├────────\n",
       "      ░      │     ││     │      ░ │  R ││  L │        \n",
       "q_3: ─░──────┤  c1 ├┤  c2 ├──────░─┤2   ├┤2   ├────────\n",
       "      ░      │     ││     │      ░ │    ││    │        \n",
       "q_4: ─░──────┤     ├┤     ├──────░─┤1   ├┤1   ├────────\n",
       "      ░      │     ││     │      ░ │    ││    │        \n",
       "q_5: ─░──────┤     ├┤     ├──────░─┤0   ├┤0   ├────────\n",
       "      ░      │     ││     │      ░ └─┬──┘└─┬──┘        \n",
       "q_6: ─░──────┤0    ├┤0    ├──────░───o─────■────X──────\n",
       "      ░ ┌───┐└──┬──┘└──┬──┘┌───┐ ░              │ ┌───┐\n",
       "  a: ─░─┤ H ├───o──────■───┤ H ├─░──────────────X─┤ H ├\n",
       "      ░ └───┘              └───┘ ░                └───┘</pre>"
      ],
      "text/plain": [
       "      ░      ┌─────┐┌─────┐      ░ ┌────┐┌────┐        \n",
       "q_0: ─░──────┤1    ├┤1    ├──────░─┤5   ├┤5   ├────────\n",
       "      ░      │     ││     │      ░ │    ││    │        \n",
       "q_1: ─░──────┤     ├┤     ├──────░─┤4   ├┤4   ├────────\n",
       "      ░      │     ││     │      ░ │    ││    │        \n",
       "q_2: ─░──────┤     ├┤     ├──────░─┤3   ├┤3   ├────────\n",
       "      ░      │     ││     │      ░ │  R ││  L │        \n",
       "q_3: ─░──────┤  c1 ├┤  c2 ├──────░─┤2   ├┤2   ├────────\n",
       "      ░      │     ││     │      ░ │    ││    │        \n",
       "q_4: ─░──────┤     ├┤     ├──────░─┤1   ├┤1   ├────────\n",
       "      ░      │     ││     │      ░ │    ││    │        \n",
       "q_5: ─░──────┤     ├┤     ├──────░─┤0   ├┤0   ├────────\n",
       "      ░      │     ││     │      ░ └─┬──┘└─┬──┘        \n",
       "q_6: ─░──────┤0    ├┤0    ├──────░───o─────■────X──────\n",
       "      ░ ┌───┐└──┬──┘└──┬──┘┌───┐ ░              │ ┌───┐\n",
       "  a: ─░─┤ H ├───o──────■───┤ H ├─░──────────────X─┤ H ├\n",
       "      ░ └───┘              └───┘ ░                └───┘"
      ]
     },
     "execution_count": 4,
     "metadata": {},
     "output_type": "execute_result"
    }
   ],
   "source": [
    "qc = oneStep(np.arccos(x),np.arccos(y))\n",
    "qc.draw() # saves the circuit in a file called qd1q2"
   ]
  },
  {
   "cell_type": "code",
   "execution_count": 5,
   "id": "934afdb4",
   "metadata": {},
   "outputs": [],
   "source": [
    "#### initialState\n",
    "initState = np.ones(M)/10  #0.1 everywhere\n",
    "initState[12] = 0.2\n",
    "nrm = np.linalg.norm(initState)\n",
    "initState = np.concatenate((initState,initState))\n",
    "#### statevector\n",
    "\n",
    "SV = Statevector(initState/np.linalg.norm(initState)).expand([1,0])\n",
    "initSV = SV #save for future reference"
   ]
  },
  {
   "cell_type": "code",
   "execution_count": 6,
   "id": "28b2046d",
   "metadata": {},
   "outputs": [],
   "source": [
    "def timestep(sv):\n",
    "    return sv.evolve(qc)\n",
    "\n",
    "def graph(sv, color = \"red\"):\n",
    "    plt.plot(list(range(0,M,1)), np.array(sv)[:M:1],color)\n",
    "    plt.plot(list(range(M,2*M,1)), np.array(sv)[M:2*M:1],color)\n",
    "    plt.plot(list(range(2*M,3*M,1)), np.array(sv)[2*M:3*M:1],color)\n",
    "    plt.plot(list(range(3*M,4*M,1)), np.array(sv)[3*M::1],color)\n",
    "    \n",
    "def hres(sv):\n",
    "    plt.plot(list(range(0,M,1)), 2**(1)*nrm*np.array(sv)[:M:])\n",
    "    plt.xlabel(\"Lattice site\")\n",
    "    plt.ylabel(\"Concentration\")\n",
    "def hres2(sv):\n",
    "    plt.plot(list(range(0,M,1)), 2**(1)*nrm2*np.array(sv)[:M:])  \n",
    "def reinit(sv):\n",
    "    tmp = np.array(sv)[:M]\n",
    "    tmp = np.concatenate((tmp,tmp))\n",
    "    return Statevector(tmp/np.linalg.norm(tmp)).expand([1,0])"
   ]
  },
  {
   "cell_type": "code",
   "execution_count": 7,
   "id": "91046510",
   "metadata": {},
   "outputs": [],
   "source": [
    "# sorts counts\n",
    "def sort_counts(counts):\n",
    "    keys = list(counts.keys())\n",
    "    keys.sort()\n",
    "    counts = {i: counts[i] for i in keys}\n",
    "    return counts"
   ]
  },
  {
   "cell_type": "code",
   "execution_count": 8,
   "id": "9bb64c3a",
   "metadata": {},
   "outputs": [],
   "source": [
    "# sorts and converts values of counts\n",
    "def process_counts(counts):\n",
    "    keys = list(counts.keys())\n",
    "    keys.sort()\n",
    "    counts = {i: 2**(1)*nrm*math.sqrt(counts[i]) for i in keys}\n",
    "    return counts"
   ]
  },
  {
   "cell_type": "code",
   "execution_count": 9,
   "id": "c27d33e9",
   "metadata": {},
   "outputs": [],
   "source": [
    "def simulate_statevector(sv, qc, nshots=1_000_000):\n",
    "    simulator = AerSimulator()\n",
    "    # simulator = AerSimulator.from_backend(FakeBrisbane())\n",
    "    # prepare the state of the given state vector\n",
    "    circ = QuantumCircuit(qc.num_qubits)\n",
    "    circ.prepare_state(sv)\n",
    "    circ.measure_all()\n",
    "\n",
    "    circ = transpile(circ, simulator)\n",
    "    result = simulator.run(circ, shots=nshots).result()\n",
    "    counts = result.get_counts(circ)\n",
    "\n",
    "    return sort_counts(counts)"
   ]
  },
  {
   "cell_type": "code",
   "execution_count": 10,
   "id": "90f5ddee",
   "metadata": {},
   "outputs": [],
   "source": [
    "def save_fig(counts, i, type=\"quantum\"):\n",
    "    vals = np.array(list(counts.values())) \n",
    "\n",
    "    plt.xlabel(\"Lattice Site\")\n",
    "    plt.ylabel(\"Number Shots\")\n",
    "    plt.title(f\"Number Shots at Lattice Sites at t = {i}\")\n",
    "\n",
    "    plt.plot(list(range(0,M,1)), vals[:M:])\n",
    "\n",
    "    plt.savefig(f'd1q2_{type}_simulation/{i}.png')\n",
    "\n",
    "    plt.close('all')"
   ]
  },
  {
   "cell_type": "code",
   "execution_count": 11,
   "id": "8fddb83d",
   "metadata": {},
   "outputs": [],
   "source": [
    "# RESET\n",
    "#### initialState\n",
    "def reset_sv():\n",
    "    initState = np.ones(M)/10  #0.1 everywhere\n",
    "    initState[12] = 0.2\n",
    "    nrm = np.linalg.norm(initState)\n",
    "    initState = np.concatenate((initState,initState))\n",
    "    #### statevector\n",
    "\n",
    "    SV = Statevector(initState/np.linalg.norm(initState)).expand([1,0])\n",
    "    initSV = SV #save for future reference\n",
    "\n",
    "    return SV"
   ]
  },
  {
   "cell_type": "code",
   "execution_count": 12,
   "id": "5bb83049",
   "metadata": {},
   "outputs": [
    {
     "name": "stdout",
     "output_type": "stream",
     "text": [
      "0.8185352771872451\n"
     ]
    }
   ],
   "source": [
    "print(nrm)"
   ]
  },
  {
   "cell_type": "code",
   "execution_count": 24,
   "id": "932064e5",
   "metadata": {},
   "outputs": [],
   "source": [
    "# sorts and converts values of counts\n",
    "def process_counts(counts):\n",
    "    keys = list(counts.keys())\n",
    "    keys.sort()\n",
    "\n",
    "    counts = {i: counts[i] for i in keys}\n",
    "    # counts = {i: 2**(1)*nrm*math.sqrt(counts[i]) for i in keys}\n",
    "    \n",
    "    vals = list(counts.values())\n",
    "    sum = 0\n",
    "    for i in vals:\n",
    "        sum = sum + i\n",
    "\n",
    "    for i in range(len(vals)):\n",
    "        vals[i] = vals[i] / sum\n",
    "\n",
    "    counts = {keys[i]: 2**(1)*nrm*math.sqrt(vals[i]) for i in range(len(keys))}\n",
    "    return counts"
   ]
  },
  {
   "cell_type": "code",
   "execution_count": 28,
   "id": "3b9f516f",
   "metadata": {
    "scrolled": true
   },
   "outputs": [
    {
     "name": "stderr",
     "output_type": "stream",
     "text": [
      "/Users/melod/anaconda3/envs/qiskit1/lib/python3.12/site-packages/matplotlib/cbook.py:1762: ComplexWarning: Casting complex values to real discards the imaginary part\n",
      "  return math.isfinite(val)\n",
      "/Users/melod/anaconda3/envs/qiskit1/lib/python3.12/site-packages/matplotlib/cbook.py:1398: ComplexWarning: Casting complex values to real discards the imaginary part\n",
      "  return np.asarray(x, float)\n"
     ]
    },
    {
     "data": {
      "image/png": "[encoded data removed]",
      "text/plain": [
       "<Figure size 640x480 with 1 Axes>"
      ]
     },
     "metadata": {},
     "output_type": "display_data"
    }
   ],
   "source": [
    "# hres(initSV)\n",
    "# SAVE FIGURES FOR STATEVECTOR SIMULATION\n",
    "iterations = 50\n",
    "min_pow = 8\n",
    "max_pow = 8\n",
    "\n",
    "SV = reset_sv()\n",
    "\n",
    "qc = oneStep(np.arccos(x),np.arccos(y))\n",
    "\n",
    "counts_all = {}\n",
    "sv_all = {}\n",
    "\n",
    "for j in range(min_pow, max_pow + 1):\n",
    "    for i in range(iterations + 1):\n",
    "        SV = timestep(SV)\n",
    "\n",
    "        if i == 50:\n",
    "            \n",
    "\n",
    "            counts = simulate_statevector(SV, qc, nshots=pow(10, j))\n",
    "            processed_counts = process_counts(counts)\n",
    "\n",
    "            vals = np.array(list(processed_counts.values())) \n",
    "            plt.plot(list(range(0,M,1)), vals[:M:], label='Finite Sampling')\n",
    "            plt.plot(list(range(0,M,1)), 2**(1)*nrm*np.array(SV)[:M:], label='Statevector Simulation')\n",
    "            \n",
    "            plt.xlabel(\"Lattice site\")\n",
    "            plt.ylabel(\"Concentration\")\n",
    "            plt.title(f'D1Q2 Comparison of Statevector Simulator with Finite Sampling, t={i}, 10^{j} shots')\n",
    "\n",
    "        SV = reinit(SV)\n",
    "\n",
    "    "
   ]
  },
  {
   "cell_type": "code",
   "execution_count": 15,
   "id": "566cfa57",
   "metadata": {},
   "outputs": [],
   "source": [
    "with open('data/d1q2_sampleincr_counts.pkl', 'wb') as f:\n",
    "    pkl.dump(counts_all, f)\n",
    "\n",
    "with open('data/d1q2_sampleincr_statevector.pkl', 'wb') as f:\n",
    "    pkl.dump(sv_all, f)"
   ]
  }
 ],
 "metadata": {
  "kernelspec": {
   "display_name": "qiskit1",
   "language": "python",
   "name": "python3"
  },
  "language_info": {
   "codemirror_mode": {
    "name": "ipython",
    "version": 3
   },
   "file_extension": ".py",
   "mimetype": "text/x-python",
   "name": "python",
   "nbconvert_exporter": "python",
   "pygments_lexer": "ipython3",
   "version": "3.12.6"
  }
 },
 "nbformat": 4,
 "nbformat_minor": 5
}

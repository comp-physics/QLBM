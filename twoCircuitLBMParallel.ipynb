{
 "cells": [
  {
   "cell_type": "code",
   "execution_count": 1,
   "id": "d347141b",
   "metadata": {},
   "outputs": [],
   "source": [
    "import numpy as np\n",
    "import qiskit as q\n",
    "from qiskit import QuantumCircuit, QuantumRegister, AncillaRegister\n",
    "from qiskit.quantum_info.operators import Operator\n",
    "from qiskit.quantum_info import Statevector\n",
    "from qiskit.visualization import array_to_latex\n",
    "import matplotlib as mpl\n",
    "import matplotlib.pyplot as plt\n",
    "from mpl_toolkits.mplot3d import Axes3D  \n",
    "import matplotlib.cm as cm\n",
    "from qiskit.circuit.library import Diagonal\n",
    "import qiskit.circuit.library as qlib\n",
    "%matplotlib inline\n",
    "from qiskit import transpile\n",
    "\n",
    "from qiskit_aer import AerSimulator"
   ]
  },
  {
   "cell_type": "code",
   "execution_count": 2,
   "id": "28667bd2",
   "metadata": {},
   "outputs": [],
   "source": [
    "#both parameters\n",
    "\n",
    "M = 16 # lattices\n",
    "\n",
    "dim = 2\n",
    "dirs = 5\n",
    "\n",
    "nlat = int(np.ceil(np.log2(M)))\n",
    "nlinks = int(np.ceil(np.log2(dirs)))"
   ]
  },
  {
   "cell_type": "code",
   "execution_count": 3,
   "id": "d40d1409",
   "metadata": {},
   "outputs": [],
   "source": [
    "vorticity = np.zeros((M,M))\n",
    "streamfunction = np.zeros((M,M))\n",
    "\n",
    "w = (2/6,1/6,1/6,1/6,1/6)\n",
    "e = (0,-1,1,1,-1) \n",
    "cs = np.sqrt(3)   ##speed of sound \n",
    "U = 1\n",
    "lambdas = [np.arccos(i) for i in w]#streamfunction lambdas, can use adv-dif"
   ]
  },
  {
   "cell_type": "code",
   "execution_count": 4,
   "id": "ef1d969d",
   "metadata": {},
   "outputs": [],
   "source": [
    "# for boundaries\n",
    "def top_half(A):\n",
    "    def convert(val):\n",
    "        return val+1j*np.sqrt(1-val**2)\n",
    "    func = np.vectorize(convert)\n",
    "    return func(A)\n",
    "def bottom_half(A):\n",
    "    def convert(val):\n",
    "        return val-1j*np.sqrt(1-val**2)\n",
    "    func = np.vectorize(convert)\n",
    "    return func(A)"
   ]
  },
  {
   "cell_type": "code",
   "execution_count": 5,
   "id": "8299c09f",
   "metadata": {},
   "outputs": [],
   "source": [
    "#for collision gates\n",
    "def createLambda(oper, isC1 = True):\n",
    "    ctrl = oper\n",
    "    if oper >= 8:\n",
    "        oper -= 8\n",
    "    s = bin(ctrl)[2:]\n",
    "    s = '0'*int((4-len(s))) + s\n",
    "    nlambda = lambdas[oper]\n",
    "    \n",
    "    if not isC1:\n",
    "        nlambda*=-1\n",
    "\n",
    "    qc = QuantumCircuit(2+nlinks)\n",
    "    tmp = QuantumCircuit(1)\n",
    "\n",
    "    tmp.p(nlambda, 0)\n",
    "    tmp.x(0)\n",
    "    tmp.p(nlambda, 0)\n",
    "    tmp.x(0)\n",
    "    \n",
    "    gate = tmp.to_gate(label = \"Lambda\"+str(ctrl)).control(nlinks+1,ctrl_state = s)\n",
    "    \n",
    "    cbits = [i for i in range(1,nlinks+2)]\n",
    "    cbits.append(0)\n",
    "    qc.append(gate,cbits)\n",
    "    return qc"
   ]
  },
  {
   "cell_type": "code",
   "execution_count": 6,
   "id": "818ae260",
   "metadata": {},
   "outputs": [],
   "source": [
    "#prop gates\n",
    "def rshift(n):\n",
    "    circ = QuantumCircuit(n)\n",
    "    for i in range(n):\n",
    "        if i == n-1:\n",
    "            circ.x(i)\n",
    "        else:\n",
    "            circ.mcx(list(range(i+1,n)), i)\n",
    "    return circ\n",
    "\n",
    "def lshift(n):\n",
    "    circ = QuantumCircuit(n)\n",
    "    for i in reversed(range(n)):\n",
    "        if i == n-1:\n",
    "            circ.x(i)\n",
    "        else:\n",
    "            circ.mcx(list(range(i+1,n)), i)\n",
    "    return circ"
   ]
  },
  {
   "cell_type": "code",
   "execution_count": 7,
   "id": "8ddb8ade",
   "metadata": {
    "scrolled": false
   },
   "outputs": [],
   "source": [
    "def streamCirc():\n",
    "    q = QuantumRegister(nlinks+dim*nlat+1,'q')\n",
    "    a = AncillaRegister(1,'a')\n",
    "\n",
    "    setup = QuantumCircuit(q)\n",
    "    setup.add_register(a)\n",
    "\n",
    "    h1 = qlib.HGate().control(1,ctrl_state = 0)\n",
    "\n",
    "    cb = [a,0]\n",
    "    cb.extend([i for i in range(dim*nlat, dim*nlat+nlinks+1)])\n",
    "    setup.h(a)\n",
    "    for i in range(dirs):\n",
    "        setup.append(createLambda(i,True).to_gate(label = 'Lambda'+str(i)).control(1,ctrl_state = 0),cb)\n",
    "    for i in range(8,13):\n",
    "        setup.append(createLambda(i,True).to_gate(label = 'Lambda'+str(i)).control(1,ctrl_state = 0),cb)\n",
    "    for i in range(dirs):\n",
    "        setup.append(createLambda(i,False).to_gate(label = 'Lambda'+str(i)).control(1,ctrl_state = 1),cb)\n",
    "    for i in range(8,13):\n",
    "        setup.append(createLambda(i,False).to_gate(label = 'Lambda'+str(i)).control(1,ctrl_state = 1),cb)\n",
    "    setup.h(q[11])\n",
    "    setup.h(a)\n",
    "    \n",
    "    setup.barrier()\n",
    "    L1 = lshift(nlat).to_gate(label = \"L\").control(nlinks+1,ctrl_state = '0001')\n",
    "    R1 = rshift(nlat).to_gate(label = \"R\").control(nlinks+1,ctrl_state = '0010')\n",
    "    L2 = lshift(nlat).to_gate(label = \"L\").control(nlinks+1,ctrl_state = '0011')\n",
    "    R2 = rshift(nlat).to_gate(label = \"R\").control(nlinks+1,ctrl_state = '0100')\n",
    "    setup.append(L1,[8,9,10,a[0],3,2,1,0])\n",
    "    setup.append(R1,[8,9,10,a[0],3,2,1,0])\n",
    "    setup.append(L2,[8,9,10,a[0],7,6,5,4])\n",
    "    setup.append(R2,[8,9,10,a[0],7,6,5,4])\n",
    "    setup.barrier()\n",
    "\n",
    "\n",
    "    setup.h(8)\n",
    "    setup.h(9)\n",
    "    setup.h(10)\n",
    "    \n",
    "    return setup"
   ]
  },
  {
   "cell_type": "code",
   "execution_count": 8,
   "id": "863e64b6",
   "metadata": {},
   "outputs": [],
   "source": [
    "#calculating derivs and diagonal array\n",
    "def uv(streamfunc):\n",
    "    #u = streamfunction_y, v = -streamfunction_x\n",
    "    v = (streamfunc[:,1:]-streamfunc[:,:-1])\n",
    "    u = streamfunc[1:,:]-streamfunc[:-1,:]\n",
    "    \n",
    "    v = np.append(v,np.reshape(v[:,-1],(M,1)),axis=1)\n",
    "    u = np.append(u,u[-1:],axis=0)\n",
    "    \n",
    "    v*=-1\n",
    "    streamfunc = np.reshape(streamfunc,(M*M))\n",
    "    return u,v\n",
    "\n",
    "def collision_f(u_vels, v_vels):\n",
    "    # for f, weights have to be calculated by advection diffusion eq, but u and v must be calculated\n",
    "    def coef(link,vel):\n",
    "        return w[link]*(1+e[link]*vel/cs**2)\n",
    "    func = np.vectorize(coef)\n",
    "    \n",
    "    ret = np.zeros((5,M,M))\n",
    "    ret[0] = func(0,np.zeros((M,M)))\n",
    "    ret[1] = func(1,u_vels)\n",
    "    ret[2] = func(2,u_vels)\n",
    "    ret[3] = func(3,v_vels)\n",
    "    ret[4] = func(4,v_vels)\n",
    "    return ret.flatten()"
   ]
  },
  {
   "cell_type": "code",
   "execution_count": 9,
   "id": "b5bf637d",
   "metadata": {},
   "outputs": [],
   "source": [
    "def vortCirc(stream):\n",
    "    q = QuantumRegister(nlinks+dim*nlat+1,'q')\n",
    "\n",
    "    setup = QuantumCircuit(q)\n",
    "    \n",
    "    h1 = qlib.HGate().control(1,ctrl_state = 0)\n",
    "    h3 = qlib.HGate().control(2,ctrl_state = '00')\n",
    "    \n",
    "    uvel,vvel = uv(stream)\n",
    "    A_diag = collision_f(uvel,vvel)\n",
    "    zeros = np.zeros(M*M)\n",
    "    A_diag = np.concatenate((A_diag, zeros, zeros, zeros))\n",
    "    B1_diag = top_half(A_diag)\n",
    "    B2_diag = bottom_half(A_diag)\n",
    "    \n",
    "    setup.h(11)\n",
    "\n",
    "    Col1_diag = Diagonal(list(B1_diag))\n",
    "    Col1 = Col1_diag.to_gate(label='c1')\n",
    "    \n",
    "    Col2_diag = Diagonal(list(B2_diag))\n",
    "    Col2 = Col2_diag.to_gate(label='c2')\n",
    "    \n",
    "    setup.append(Col1.control(1,ctrl_state = '0'),[11,0,1,2,3,4,5,6,7,8,9,10])\n",
    "    setup.append(Col2.control(1,ctrl_state = '1'),[11,0,1,2,3,4,5,6,7,8,9,10])\n",
    "\n",
    "    setup.h(11)\n",
    "\n",
    "\n",
    "\n",
    "    setup.barrier()\n",
    "    L1 = lshift(nlat).to_gate(label = \"L\").control(nlinks,ctrl_state = '001')\n",
    "    R1 = rshift(nlat).to_gate(label = \"R\").control(nlinks,ctrl_state = '010')\n",
    "    L2 = lshift(nlat).to_gate(label = \"L\").control(nlinks,ctrl_state = '011')\n",
    "    R2 = rshift(nlat).to_gate(label = \"R\").control(nlinks,ctrl_state = '100')\n",
    "    setup.append(L1,[8,9,10,3,2,1,0])\n",
    "    setup.append(R1,[8,9,10,3,2,1,0])\n",
    "    setup.append(L2,[8,9,10,7,6,5,4])\n",
    "    setup.append(R2,[8,9,10,7,6,5,4])\n",
    "    setup.barrier()\n",
    "\n",
    "\n",
    "    setup.h(8)\n",
    "    setup.h(9)\n",
    "    setup.h(10)\n",
    "\n",
    "    return setup"
   ]
  },
  {
   "cell_type": "code",
   "execution_count": 10,
   "id": "a0417529",
   "metadata": {},
   "outputs": [],
   "source": [
    "def calcBounds(streamfunction):\n",
    "    arr = np.zeros((M,M))\n",
    "    arr[-1] = -2*streamfunction[-2]\n",
    "    arr[:,0] = -2*streamfunction[:,1]\n",
    "    arr[:,-1] = -2*streamfunction[:,-2]\n",
    "    arr[0] = -2*streamfunction[1]-2*U\n",
    "    return arr"
   ]
  },
  {
   "cell_type": "code",
   "execution_count": 11,
   "id": "31906c22",
   "metadata": {},
   "outputs": [],
   "source": [
    "def Vtimestep(vort, stream):\n",
    "    bounds = calcBounds(stream)\n",
    "    zeros = np.zeros((M,M))\n",
    "    vort = np.concatenate((vort,vort,vort,vort,vort,zeros,zeros,zeros)).flatten()\n",
    "    vortSV = Statevector(vort).expand([1,0]).evolve(vortCirc(stream))\n",
    "    vortAr = np.reshape(np.array(vortSV)[:M*M],(M,M))\n",
    "    vortAr = np.real(vortAr)*2**(3/2)\n",
    "    vortAr[0] = bounds[0]\n",
    "    vortAr[-1] = bounds[-1]\n",
    "    vortAr[:,0] = bounds[:,0]\n",
    "    vortAr[:,-1] = bounds[:,-1]\n",
    "    return np.reshape(vortAr,(M,M))\n",
    "\n",
    "def Stimestep(stream, source):\n",
    "    zeros = np.zeros((M,M))\n",
    "    stream = np.concatenate((stream,stream,stream,stream,stream,zeros,zeros,zeros,source,source,source,source,source,zeros,zeros,zeros)).flatten()\n",
    "    streamSV = Statevector(stream).expand([1,0]).evolve(streamCirc())\n",
    "    streamAr = np.reshape(np.array(streamSV)[:M*M],(M,M))\n",
    "    streamAr = np.real(streamAr)*2**(4/2)\n",
    "    streamAr[0] = 0\n",
    "    streamAr[-1] = 0\n",
    "    streamAr[:,0] = 0\n",
    "    streamAr[:,-1] = 0\n",
    "    return np.reshape(streamAr,(M,M))"
   ]
  },
  {
   "cell_type": "code",
   "execution_count": 12,
   "id": "d2b2aa71",
   "metadata": {},
   "outputs": [],
   "source": [
    "from qiskit_experiments.framework import ParallelExperiment\n",
    "\n",
    "from CustomExperiment import CustomExperiment"
   ]
  },
  {
   "cell_type": "code",
   "execution_count": 13,
   "id": "fbba4e44",
   "metadata": {},
   "outputs": [],
   "source": [
    "allstreams = []\n",
    "allvorts = []\n",
    "# steps = 200\n",
    "streamfunction = np.zeros((M,M))\n",
    "vorticity = np.zeros((M,M))\n",
    "allstreams.append(streamfunction)\n",
    "allvorts.append(vorticity)\n",
    "\n",
    "streamfunction, vorticity = allstreams[-1], allvorts[-1]"
   ]
  },
  {
   "cell_type": "code",
   "execution_count": 14,
   "id": "bf194804",
   "metadata": {},
   "outputs": [
    {
     "name": "stderr",
     "output_type": "stream",
     "text": [
      "/Users/melod/anaconda3/envs/qiskit1/lib/python3.12/site-packages/numpy/linalg/_linalg.py:2432: RuntimeWarning: divide by zero encountered in det\n",
      "  r = _umath_linalg.det(a, signature=signature)\n",
      "/Users/melod/anaconda3/envs/qiskit1/lib/python3.12/site-packages/numpy/linalg/_linalg.py:2432: RuntimeWarning: invalid value encountered in det\n",
      "  r = _umath_linalg.det(a, signature=signature)\n"
     ]
    }
   ],
   "source": [
    "sCirc = streamCirc()\n",
    "stream_physical_qubits = [i for i in range(0, sCirc.num_qubits)]\n",
    "exp1 = CustomExperiment(sCirc, 'stream', backend=AerSimulator(), physical_qubits=stream_physical_qubits)\n",
    "\n",
    "base = len(stream_physical_qubits)\n",
    "\n",
    "vCirc = vortCirc(streamfunction)\n",
    "vorticity_physical_qubits = [i for i in range(base, base + vCirc.num_qubits)]\n",
    "exp2 = CustomExperiment(vCirc, 'vorticity', backend=AerSimulator(), physical_qubits=vorticity_physical_qubits)"
   ]
  },
  {
   "cell_type": "code",
   "execution_count": 15,
   "id": "2bf30bc4",
   "metadata": {},
   "outputs": [],
   "source": [
    "experiments = [exp1, exp2]"
   ]
  },
  {
   "cell_type": "code",
   "execution_count": 16,
   "id": "982f2292",
   "metadata": {},
   "outputs": [],
   "source": [
    "parallel_exp = ParallelExperiment(experiments, backend=AerSimulator())"
   ]
  },
  {
   "cell_type": "code",
   "execution_count": 18,
   "id": "26fcbeac",
   "metadata": {},
   "outputs": [],
   "source": [
    "ideal = parallel_exp.run().block_for_results()"
   ]
  },
  {
   "cell_type": "code",
   "execution_count": null,
   "id": "126413d4",
   "metadata": {},
   "outputs": [],
   "source": []
  }
 ],
 "metadata": {
  "kernelspec": {
   "display_name": "qiskit1",
   "language": "python",
   "name": "python3"
  },
  "language_info": {
   "codemirror_mode": {
    "name": "ipython",
    "version": 3
   },
   "file_extension": ".py",
   "mimetype": "text/x-python",
   "name": "python",
   "nbconvert_exporter": "python",
   "pygments_lexer": "ipython3",
   "version": "3.12.6"
  }
 },
 "nbformat": 4,
 "nbformat_minor": 5
}

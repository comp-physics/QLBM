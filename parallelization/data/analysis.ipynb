{
 "cells": [
  {
   "cell_type": "code",
   "execution_count": 1,
   "metadata": {},
   "outputs": [],
   "source": [
    "import numpy as np \n",
    "from collections import OrderedDict"
   ]
  },
  {
   "cell_type": "code",
   "execution_count": 3,
   "metadata": {},
   "outputs": [],
   "source": [
    "data = {\n",
    "    1: {\n",
    "        \"depth\":[761, 754, 680, 689, 794],\n",
    "        \"count_ops\":[\n",
    "            OrderedDict({'rz': 794, 'sx': 568, 'ecr': 197, 'x': 5}), \n",
    "            OrderedDict({'rz': 683, 'sx': 411, 'ecr': 192, 'x': 40}),\n",
    "            OrderedDict({'rz': 680, 'sx': 494, 'ecr': 160, 'x': 6}),\n",
    "            OrderedDict({'rz': 694, 'sx': 505, 'ecr': 160, 'x': 4}),\n",
    "            OrderedDict({'rz': 825, 'sx': 589, 'ecr': 201, 'x':0})    \n",
    "        ],\n",
    "        \"runtime\": [118.86000000000001, 127.56, 106.56000000000002, 106.74000000000001, 122.88000000000001]\n",
    "    },\n",
    "    2: {\n",
    "        \"depth\": [3146, 3387, 3068, 3489, 3143],\n",
    "        \"count_ops\":[\n",
    "            OrderedDict({'rz': 3522, 'sx': 2483, 'ecr': 885, 'x': 29}),\n",
    "            OrderedDict({'rz': 3617, 'sx': 2610, 'ecr': 905, 'x': 7}),\n",
    "            OrderedDict({'rz': 3132, 'sx': 2288, 'ecr': 739, 'x': 19}),\n",
    "            OrderedDict({'rz': 3321, 'sx': 2000, 'ecr': 945, 'x': 187}),\n",
    "            OrderedDict({'rz': 3449, 'sx': 2444, 'ecr': 855, 'x': 31})\n",
    "        ],\n",
    "        \"runtime\": [507.24000000000007, 542.7, 481.50000000000006, 596.46, 499.4400000000001]\n",
    "    }, \n",
    "    3: {\n",
    "        \"depth\": [12980, 14299, 13813, 13321, 13825],\n",
    "        \"count_ops\":[\n",
    "            OrderedDict({'rz': 12475, 'sx': 7427, 'ecr': 3312, 'x': 704}),\n",
    "            OrderedDict({'rz': 14732, 'sx': 9030, 'ecr': 4135, 'x': 811}),\n",
    "            OrderedDict({'rz': 16062, 'sx': 11152, 'ecr': 4177, 'x': 184}),\n",
    "            OrderedDict({'rz': 13932, 'sx': 9996, 'ecr': 3290, 'x': 55}),\n",
    "            OrderedDict({'rz': 15014, 'sx': 9143, 'ecr': 4145, 'x': 668})\n",
    "        ],\n",
    "        \"runtime\": [2055.48, 2400.9, 2284.44, 2073.9, 2239.1400000000003]\n",
    "    },\n",
    "    4: {\n",
    "        \"depth\": [52877, 55984, 56891, 50998, 56469],\n",
    "        \"count_ops\":[\n",
    "            OrderedDict({'rz': 58095, 'sx': 41115, 'ecr': 13709, 'x': 548}),\n",
    "            OrderedDict({'rz': 59390, 'sx': 33569, 'ecr': 15994, 'x': 3308}),\n",
    "            OrderedDict({'rz': 61911, 'sx': 39631, 'ecr': 15648, 'x': 1367}),\n",
    "            OrderedDict({'rz': 57308, 'sx': 29942, 'ecr': 16871, 'x': 4610}),\n",
    "            OrderedDict({'rz': 60947, 'sx': 37523, 'ecr': 15154, 'x': 2374})\n",
    "        ],\n",
    "        \"runtime\": [8152.68, 8954.34, 8825.22, 8878.98, 9416.500000000002]\n",
    "    },\n",
    "    5: {\n",
    "        \"depth\": [209036, 236840, 216602, 204844, 189299],\n",
    "        \"count_ops\":[\n",
    "            OrderedDict({'rz': 232418, 'sx': 161940, 'ecr': 56000, 'x': 4375}),\n",
    "            OrderedDict({'rz': 238901, 'sx': 146691, 'ecr': 60780, 'x': 9037}),\n",
    "            OrderedDict({'rz': 230148, 'sx': 158243, 'ecr': 55727, 'x': 4696}),\n",
    "            OrderedDict({'rz': 199748, 'sx': 115903, 'ecr': 53110, 'x': 11696}),\n",
    "            OrderedDict({'rz': 210914, 'sx': 107765, 'ecr': 61350, 'x': 20879})\n",
    "        ],\n",
    "        \"runtime\": [32649.24, 35862.54000000001, 34007.880000000005, 33236.28, 32290.020000000004]\n",
    "    }\n",
    "}"
   ]
  },
  {
   "cell_type": "code",
   "execution_count": 4,
   "metadata": {},
   "outputs": [],
   "source": [
    "import pickle as pkl\n",
    "\n",
    "with open(\"twoCircuitRandomEncodingCost.pkl\", \"wb\") as f:\n",
    "    pkl.dump(data, f)"
   ]
  },
  {
   "cell_type": "code",
   "execution_count": 5,
   "metadata": {},
   "outputs": [],
   "source": [
    "import matplotlib.pyplot as plt"
   ]
  },
  {
   "cell_type": "code",
   "execution_count": 10,
   "metadata": {},
   "outputs": [],
   "source": [
    "x = []\n",
    "y = []\n",
    "\n",
    "for i in list(data.keys()):\n",
    "    depth = data[i][\"depth\"]\n",
    "    y.extend(depth)\n",
    "    x.extend([i]*len(depth))"
   ]
  },
  {
   "cell_type": "code",
   "execution_count": null,
   "metadata": {},
   "outputs": [
    {
     "data": {
      "image/png": "[encoded data removed]",
      "text/plain": [
       "<Figure size 640x480 with 1 Axes>"
      ]
     },
     "metadata": {},
     "output_type": "display_data"
    }
   ],
   "source": [
    "plt.scatter(x, y)\n",
    "plt.xlabel(\"2^x number lattices\")\n",
    "plt.ylabel(\"Depth\")\n",
    "plt.title(\"Encoding Cost Scaling\")\n",
    "plt.show()"
   ]
  }
 ],
 "metadata": {
  "kernelspec": {
   "display_name": "qiskit1",
   "language": "python",
   "name": "python3"
  },
  "language_info": {
   "codemirror_mode": {
    "name": "ipython",
    "version": 3
   },
   "file_extension": ".py",
   "mimetype": "text/x-python",
   "name": "python",
   "nbconvert_exporter": "python",
   "pygments_lexer": "ipython3",
   "version": "3.12.6"
  }
 },
 "nbformat": 4,
 "nbformat_minor": 2
}
